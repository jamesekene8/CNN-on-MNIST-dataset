{
  "nbformat": 4,
  "nbformat_minor": 0,
  "metadata": {
    "colab": {
      "name": "Untitled3.ipynb",
      "provenance": []
    },
    "kernelspec": {
      "name": "python3",
      "display_name": "Python 3"
    }
  },
  "cells": [
    {
      "cell_type": "code",
      "metadata": {
        "id": "jNgFRUG_y4Qd"
      },
      "source": [
        "import keras\n",
        "from keras.datasets import mnist\n",
        "from keras.layers import Dense,Conv2D,MaxPooling2D,Flatten\n",
        "from keras.models import Model,Input\n",
        "from keras.optimizers import SGD\n",
        "from keras.callbacks import LearningRateScheduler\n",
        "from keras.callbacks import ModelCheckpoint\n",
        "import os"
      ],
      "execution_count": 1,
      "outputs": []
    },
    {
      "cell_type": "code",
      "metadata": {
        "id": "_ITa7FjYy89X"
      },
      "source": [
        "(train_x, train_y), (test_x, test_y) = mnist.load_data()"
      ],
      "execution_count": 3,
      "outputs": []
    },
    {
      "cell_type": "code",
      "metadata": {
        "id": "mR6TRbBvzHpp"
      },
      "source": [
        "train_x = train_x.astype('float32') / 255\n",
        "test_x = test_x.astype('float32') / 255"
      ],
      "execution_count": 5,
      "outputs": []
    },
    {
      "cell_type": "code",
      "metadata": {
        "colab": {
          "base_uri": "https://localhost:8080/"
        },
        "id": "LQoaz0A20Jxx",
        "outputId": "bf4f3ddf-d2a0-46c7-d9cc-2d47d8550117"
      },
      "source": [
        "print(\"Train Images: \",train_x.shape)\n",
        "print(\"Train Labels: \",train_y.shape)\n",
        "print(\"Test Images: \",test_x.shape)\n",
        "print(\"Test Labels: \",test_y.shape)"
      ],
      "execution_count": 6,
      "outputs": [
        {
          "output_type": "stream",
          "text": [
            "Train Images:  (60000, 28, 28)\n",
            "Train Labels:  (60000,)\n",
            "Test Images:  (10000, 28, 28)\n",
            "Test Labels:  (10000,)\n"
          ],
          "name": "stdout"
        }
      ]
    },
    {
      "cell_type": "code",
      "metadata": {
        "id": "O6uaLHry03t2"
      },
      "source": [
        "train_x = train_x.reshape(60000, 28, 28, 1)\n",
        "test_x = test_x.reshape(10000, 28, 28, 1)"
      ],
      "execution_count": 7,
      "outputs": []
    },
    {
      "cell_type": "code",
      "metadata": {
        "colab": {
          "base_uri": "https://localhost:8080/"
        },
        "id": "-EdWXsk31P5e",
        "outputId": "646db319-543a-4c28-967d-ef0f8f0d7279"
      },
      "source": [
        "train_x.shape"
      ],
      "execution_count": 8,
      "outputs": [
        {
          "output_type": "execute_result",
          "data": {
            "text/plain": [
              "(60000, 28, 28, 1)"
            ]
          },
          "metadata": {
            "tags": []
          },
          "execution_count": 8
        }
      ]
    },
    {
      "cell_type": "code",
      "metadata": {
        "id": "Kf_r4B-B1Xvb"
      },
      "source": [
        "train_y = keras.utils.to_categorical(train_y, 10)\n",
        "test_y = keras.utils.to_categorical(test_y, 10)"
      ],
      "execution_count": 9,
      "outputs": []
    },
    {
      "cell_type": "code",
      "metadata": {
        "colab": {
          "base_uri": "https://localhost:8080/"
        },
        "id": "He5ydxY7119S",
        "outputId": "46ed53ef-eb1d-41f8-f3ea-f3d2a0cd8ef9"
      },
      "source": [
        "def MiniModel(input_shape):\n",
        "  images = Input(input_shape)\n",
        "\n",
        "  net = Conv2D(filters=64, kernel_size=[3,3], strides=(1,1), padding='same', activation='relu')(images)\n",
        "  net = Conv2D(filters=64, kernel_size=[3,3], strides=(1,1), padding='same', activation='relu')(net)\n",
        "  net = MaxPooling2D(pool_size=(2,2))(net)\n",
        "  net = Conv2D(filters=128, kernel_size=[3,3], strides=(1,1), padding='same', activation='relu')(net)\n",
        "  net = Conv2D(filters=128, kernel_size=[3,3], strides=(1,1), padding='same', activation='relu')(net)\n",
        "  net = Flatten()(net)\n",
        "  net = Dense(units=10, activation='softmax')(net)\n",
        "  model = Model(inputs=images, outputs=net)\n",
        "\n",
        "  return model\n",
        "\n",
        "input_shape = (28, 28, 1)\n",
        "model = MiniModel(input_shape)\n",
        "\n",
        "model.summary()\n",
        "\n"
      ],
      "execution_count": 11,
      "outputs": [
        {
          "output_type": "stream",
          "text": [
            "Model: \"functional_1\"\n",
            "_________________________________________________________________\n",
            "Layer (type)                 Output Shape              Param #   \n",
            "=================================================================\n",
            "input_1 (InputLayer)         [(None, 28, 28, 1)]       0         \n",
            "_________________________________________________________________\n",
            "conv2d (Conv2D)              (None, 28, 28, 64)        640       \n",
            "_________________________________________________________________\n",
            "conv2d_1 (Conv2D)            (None, 28, 28, 64)        36928     \n",
            "_________________________________________________________________\n",
            "max_pooling2d (MaxPooling2D) (None, 14, 14, 64)        0         \n",
            "_________________________________________________________________\n",
            "conv2d_2 (Conv2D)            (None, 14, 14, 128)       73856     \n",
            "_________________________________________________________________\n",
            "conv2d_3 (Conv2D)            (None, 14, 14, 128)       147584    \n",
            "_________________________________________________________________\n",
            "flatten (Flatten)            (None, 25088)             0         \n",
            "_________________________________________________________________\n",
            "dense (Dense)                (None, 10)                250890    \n",
            "=================================================================\n",
            "Total params: 509,898\n",
            "Trainable params: 509,898\n",
            "Non-trainable params: 0\n",
            "_________________________________________________________________\n"
          ],
          "name": "stdout"
        }
      ]
    },
    {
      "cell_type": "code",
      "metadata": {
        "id": "mSxJxTcK9F44"
      },
      "source": [
        "def lr_schedule(epoch):\n",
        "  lr = 0.1\n",
        "\n",
        "  if epoch > 15:\n",
        "    lr = lr / 100\n",
        "  elif epoch > 10:\n",
        "    lr = lr / 10\n",
        "  elif epoch > 5:\n",
        "    lr = lr/5\n",
        "\n",
        "  print(\"learning rate:\", lr)\n",
        "\n",
        "  return lr"
      ],
      "execution_count": 12,
      "outputs": []
    },
    {
      "cell_type": "code",
      "metadata": {
        "colab": {
          "base_uri": "https://localhost:8080/"
        },
        "id": "Izav1WY5-DAl",
        "outputId": "c886d0c6-c4a8-4fc7-f025-a54ecd2939a9"
      },
      "source": [
        "#Pass the scheduler function to the Learning Rate Scheduler class\n",
        "lr_scheduler = LearningRateScheduler(lr_schedule)\n",
        "\n",
        "#Directory in which to create models\n",
        "save_direc = os.path.join(os.getcwd(), 'mnistsavedmodels')\n",
        "\n",
        "#Name of model files\n",
        "model_name = 'mnistmodel.{epoch:03d}.h5'\n",
        "\n",
        "#Create Directory if it doesn't exist\n",
        "if not os.path.isdir(save_direc):\n",
        "  os.makedirs(save_direc)\n",
        "\n",
        "#Join the directory with the model file\n",
        "modelpath = os.path.join(save_direc, model_name)\n",
        "checkpoint = ModelCheckpoint(filepath=modelpath, monitor='val_acc', verbose=1, save_best_only=True, period=1)\n",
        "\n",
        "#Specify the training components\n",
        "model.compile(optimizer=SGD(lr_schedule(0)),loss=\"categorical_crossentropy\",metrics=[\"accuracy\"])\n",
        "\n",
        "#Fit the model\n",
        "model.fit(train_x,train_y,batch_size=32,epochs=20,shuffle=True,validation_split=0.1,verbose=1,callbacks=[checkpoint,lr_scheduler])\n",
        "\n",
        "#Evaluate the accuracy of the test dataset\n",
        "accuracy = model.evaluate(x=test_x,y=test_y,batch_size=32)\n",
        "print(\"Accuracy: \",accuracy[1])"
      ],
      "execution_count": null,
      "outputs": [
        {
          "output_type": "stream",
          "text": [
            "WARNING:tensorflow:`period` argument is deprecated. Please use `save_freq` to specify the frequency in number of batches seen.\n",
            "learning rate: 0.1\n",
            "learning rate: 0.1\n",
            "Epoch 1/20\n",
            " 599/1688 [=========>....................] - ETA: 5:36 - loss: 0.3344 - accuracy: 0.8957"
          ],
          "name": "stdout"
        }
      ]
    }
  ]
}